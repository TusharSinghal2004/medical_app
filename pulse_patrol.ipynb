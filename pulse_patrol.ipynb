{
  "nbformat": 4,
  "nbformat_minor": 0,
  "metadata": {
    "colab": {
      "provenance": [],
      "gpuType": "T4",
      "include_colab_link": true
    },
    "kernelspec": {
      "name": "python3",
      "display_name": "Python 3"
    },
    "language_info": {
      "name": "python"
    },
    "accelerator": "GPU"
  },
  "cells": [
    {
      "cell_type": "markdown",
      "metadata": {
        "id": "view-in-github",
        "colab_type": "text"
      },
      "source": [
        "<a href=\"https://colab.research.google.com/github/TusharSinghal2004/medical_app/blob/main/pulse_patrol.ipynb\" target=\"_parent\"><img src=\"https://colab.research.google.com/assets/colab-badge.svg\" alt=\"Open In Colab\"/></a>"
      ]
    },
    {
      "cell_type": "code",
      "source": [
        "import pandas as pd\n",
        "\n",
        "# Load the diagnoses_icd and admissions CSV files\n",
        "diagnoses = pd.read_csv('DIAGNOSES_ICD.csv')\n",
        "admissions = pd.read_csv('ADMISSIONS.csv')\n",
        "\n",
        "# Filter for heart failure using ICD-9 code starting with '428'\n",
        "heart_failure_diag = diagnoses[diagnoses['icd9_code'].astype(str).str.startswith('428')]\n",
        "\n",
        "# Merge with admissions to get more patient info\n",
        "heart_failure_records = pd.merge(heart_failure_diag, admissions, on='hadm_id', how='inner')\n",
        "\n",
        "# Display a sample of heart failure records\n",
        "print(heart_failure_records.head())"
      ],
      "metadata": {
        "colab": {
          "base_uri": "https://localhost:8080/"
        },
        "id": "iIZAqKli6JhP",
        "outputId": "b9f6333c-6c38-4df3-bb43-19ca17e89a23"
      },
      "execution_count": 1,
      "outputs": [
        {
          "output_type": "stream",
          "name": "stdout",
          "text": [
            "   row_id_x  subject_id_x  hadm_id  seq_num icd9_code  row_id_y  subject_id_y  \\\n",
            "0    112349         10006   142345        6      4280     12258         10006   \n",
            "1    112513         10027   199395        1      4280     12278         10027   \n",
            "2    112544         10029   132349       14      4280     12280         10029   \n",
            "3    112566         10032   140372        4     42830     12282         10032   \n",
            "4    112567         10032   140372        5      4280     12282         10032   \n",
            "\n",
            "             admittime            dischtime deathtime  ... insurance language  \\\n",
            "0  2164-10-23 21:09:00  2164-11-01 17:15:00       NaN  ...  Medicare      NaN   \n",
            "1  2190-07-13 07:15:00  2190-07-25 14:00:00       NaN  ...  Medicare      NaN   \n",
            "2  2139-09-22 10:58:00  2139-10-02 14:29:00       NaN  ...  Medicare      NaN   \n",
            "3  2138-04-02 19:52:00  2138-04-15 14:35:00       NaN  ...  Medicare      NaN   \n",
            "4  2138-04-02 19:52:00  2138-04-15 14:35:00       NaN  ...  Medicare      NaN   \n",
            "\n",
            "            religion marital_status               ethnicity  \\\n",
            "0           CATHOLIC      SEPARATED  BLACK/AFRICAN AMERICAN   \n",
            "1           CATHOLIC        MARRIED                   WHITE   \n",
            "2  PROTESTANT QUAKER       DIVORCED                   WHITE   \n",
            "3           CATHOLIC        WIDOWED                   WHITE   \n",
            "4           CATHOLIC        WIDOWED                   WHITE   \n",
            "\n",
            "             edregtime            edouttime  \\\n",
            "0  2164-10-23 16:43:00  2164-10-23 23:00:00   \n",
            "1                  NaN                  NaN   \n",
            "2  2139-09-22 06:03:00  2139-09-22 11:50:00   \n",
            "3  2138-04-02 14:56:00  2138-04-02 20:40:00   \n",
            "4  2138-04-02 14:56:00  2138-04-02 20:40:00   \n",
            "\n",
            "                                           diagnosis hospital_expire_flag  \\\n",
            "0                                             SEPSIS                    0   \n",
            "1   MITRAL REGURGITATION;CORONARY ARTERY DISEASE\\...                    0   \n",
            "2                                  SYNCOPE;TELEMETRY                    0   \n",
            "3                            RIGHT HUMEROUS FRACTURE                    0   \n",
            "4                            RIGHT HUMEROUS FRACTURE                    0   \n",
            "\n",
            "  has_chartevents_data  \n",
            "0                    1  \n",
            "1                    1  \n",
            "2                    1  \n",
            "3                    1  \n",
            "4                    1  \n",
            "\n",
            "[5 rows x 23 columns]\n"
          ]
        }
      ]
    },
    {
      "cell_type": "markdown",
      "source": [
        "data cleaining and data validation"
      ],
      "metadata": {
        "id": "QotF4dOs7R7l"
      }
    },
    {
      "cell_type": "code",
      "execution_count": 2,
      "metadata": {
        "id": "Zk8TIZo82uEF"
      },
      "outputs": [],
      "source": [
        "import pandas as pd\n",
        "#Convert Date Columns to Datetime\n",
        "# Assuming your extracted dataframe is heart_failure_records from your merge code\n",
        "heart_failure_records['admittime'] = pd.to_datetime(heart_failure_records['admittime'])\n",
        "heart_failure_records['dischtime'] = pd.to_datetime(heart_failure_records['dischtime'])\n"
      ]
    },
    {
      "cell_type": "code",
      "source": [
        "\n",
        "\n",
        "# Assuming you already have heart_failure_records from your merge\n",
        "# Use subject_id_x as the unified patient ID and drop subject_id_y\n",
        "heart_failure_records['subject_id'] = heart_failure_records['subject_id_x']\n",
        "heart_failure_records.drop(columns=['subject_id_x', 'row_id_y'], inplace=True, errors='ignore')\n",
        "\n",
        "# Rename columns if needed (for clarity)\n",
        "heart_failure_records.rename(columns={'hadm_id': 'hospital_admission_id'}, inplace=True)\n",
        "\n",
        "# Display a sample of the merged records\n",
        "print(heart_failure_records.head())\n"
      ],
      "metadata": {
        "colab": {
          "base_uri": "https://localhost:8080/"
        },
        "id": "rxzL3pPd8R1Y",
        "outputId": "2d34f91a-2633-4a25-ebcb-e11b02faaf4c"
      },
      "execution_count": 3,
      "outputs": [
        {
          "output_type": "stream",
          "name": "stdout",
          "text": [
            "   row_id_x  hospital_admission_id  seq_num icd9_code  subject_id_y  \\\n",
            "0    112349                 142345        6      4280         10006   \n",
            "1    112513                 199395        1      4280         10027   \n",
            "2    112544                 132349       14      4280         10029   \n",
            "3    112566                 140372        4     42830         10032   \n",
            "4    112567                 140372        5      4280         10032   \n",
            "\n",
            "            admittime           dischtime deathtime admission_type  \\\n",
            "0 2164-10-23 21:09:00 2164-11-01 17:15:00       NaN      EMERGENCY   \n",
            "1 2190-07-13 07:15:00 2190-07-25 14:00:00       NaN       ELECTIVE   \n",
            "2 2139-09-22 10:58:00 2139-10-02 14:29:00       NaN      EMERGENCY   \n",
            "3 2138-04-02 19:52:00 2138-04-15 14:35:00       NaN      EMERGENCY   \n",
            "4 2138-04-02 19:52:00 2138-04-15 14:35:00       NaN      EMERGENCY   \n",
            "\n",
            "          admission_location  ... language           religion marital_status  \\\n",
            "0       EMERGENCY ROOM ADMIT  ...      NaN           CATHOLIC      SEPARATED   \n",
            "1  PHYS REFERRAL/NORMAL DELI  ...      NaN           CATHOLIC        MARRIED   \n",
            "2       EMERGENCY ROOM ADMIT  ...      NaN  PROTESTANT QUAKER       DIVORCED   \n",
            "3       EMERGENCY ROOM ADMIT  ...      NaN           CATHOLIC        WIDOWED   \n",
            "4       EMERGENCY ROOM ADMIT  ...      NaN           CATHOLIC        WIDOWED   \n",
            "\n",
            "                ethnicity            edregtime            edouttime  \\\n",
            "0  BLACK/AFRICAN AMERICAN  2164-10-23 16:43:00  2164-10-23 23:00:00   \n",
            "1                   WHITE                  NaN                  NaN   \n",
            "2                   WHITE  2139-09-22 06:03:00  2139-09-22 11:50:00   \n",
            "3                   WHITE  2138-04-02 14:56:00  2138-04-02 20:40:00   \n",
            "4                   WHITE  2138-04-02 14:56:00  2138-04-02 20:40:00   \n",
            "\n",
            "                                           diagnosis hospital_expire_flag  \\\n",
            "0                                             SEPSIS                    0   \n",
            "1   MITRAL REGURGITATION;CORONARY ARTERY DISEASE\\...                    0   \n",
            "2                                  SYNCOPE;TELEMETRY                    0   \n",
            "3                            RIGHT HUMEROUS FRACTURE                    0   \n",
            "4                            RIGHT HUMEROUS FRACTURE                    0   \n",
            "\n",
            "  has_chartevents_data  subject_id  \n",
            "0                    1       10006  \n",
            "1                    1       10027  \n",
            "2                    1       10029  \n",
            "3                    1       10032  \n",
            "4                    1       10032  \n",
            "\n",
            "[5 rows x 22 columns]\n"
          ]
        }
      ]
    },
    {
      "cell_type": "code",
      "source": [
        "# Filter out records where dischtime is before admittime\n",
        "# Validate Date Consistency\n",
        "heart_failure_records = heart_failure_records[heart_failure_records['dischtime'] >= heart_failure_records['admittime']]\n",
        "print(\"After date validation:\", heart_failure_records.shape)\n"
      ],
      "metadata": {
        "colab": {
          "base_uri": "https://localhost:8080/"
        },
        "id": "pby_0ap934Ur",
        "outputId": "acb81fc3-a5ee-42a3-e2ae-020815cab69f"
      },
      "execution_count": 4,
      "outputs": [
        {
          "output_type": "stream",
          "name": "stdout",
          "text": [
            "After date validation: (61, 22)\n"
          ]
        }
      ]
    },
    {
      "cell_type": "markdown",
      "source": [
        "handling multiple admissions per patient"
      ],
      "metadata": {
        "id": "xjHlWjR07mCR"
      }
    },
    {
      "cell_type": "code",
      "source": [
        "# Sort records by patient and admission time\n",
        "heart_failure_records = heart_failure_records.sort_values(by=['subject_id', 'admittime'])\n"
      ],
      "metadata": {
        "id": "CYo8JiVF7h5c"
      },
      "execution_count": 5,
      "outputs": []
    },
    {
      "cell_type": "code",
      "source": [
        "#computing 30 day readmisson plan\n",
        "# Initialize the readmission flag\n",
        "heart_failure_records['readmission'] = 0\n",
        "\n",
        "# Group by subject_id\n",
        "grouped = heart_failure_records.groupby('subject_id')\n",
        "\n",
        "def mark_readmission(df):\n",
        "    df = df.sort_values(by='admittime').reset_index(drop=True)\n",
        "    # Loop over all but the last admission\n",
        "    for i in range(len(df) - 1):\n",
        "        discharge = df.loc[i, 'dischtime']\n",
        "        next_admission = df.loc[i + 1, 'admittime']\n",
        "        # Mark as readmission if next admission occurs within 30 days\n",
        "        if (next_admission - discharge).days <= 30:\n",
        "            df.loc[i, 'readmission'] = 1\n",
        "    return df\n",
        "\n",
        "heart_failure_records = grouped.apply(mark_readmission).reset_index(drop=True)\n",
        "\n",
        "# Check sample output\n",
        "print(heart_failure_records[['subject_id', 'admittime', 'dischtime', 'readmission']].head(10))\n"
      ],
      "metadata": {
        "colab": {
          "base_uri": "https://localhost:8080/"
        },
        "id": "1RZWN23c7phM",
        "outputId": "ffce27ea-5883-462e-d16f-bd1d00d7d804"
      },
      "execution_count": 6,
      "outputs": [
        {
          "output_type": "stream",
          "name": "stdout",
          "text": [
            "   subject_id           admittime           dischtime  readmission\n",
            "0       10006 2164-10-23 21:09:00 2164-11-01 17:15:00            0\n",
            "1       10027 2190-07-13 07:15:00 2190-07-25 14:00:00            0\n",
            "2       10029 2139-09-22 10:58:00 2139-10-02 14:29:00            0\n",
            "3       10032 2138-04-02 19:52:00 2138-04-15 14:35:00            1\n",
            "4       10032 2138-04-02 19:52:00 2138-04-15 14:35:00            0\n",
            "5       10038 2144-02-09 17:53:00 2144-02-21 13:30:00            1\n",
            "6       10038 2144-02-09 17:53:00 2144-02-21 13:30:00            0\n",
            "7       10040 2147-02-23 11:43:00 2147-02-27 16:19:00            0\n",
            "8       10042 2147-02-06 12:38:00 2147-02-17 19:00:00            0\n",
            "9       10043 2185-04-14 00:23:00 2185-04-26 18:20:00            1\n"
          ]
        },
        {
          "output_type": "stream",
          "name": "stderr",
          "text": [
            "<ipython-input-6-6ee3cb8ba8d8>:19: DeprecationWarning: DataFrameGroupBy.apply operated on the grouping columns. This behavior is deprecated, and in a future version of pandas the grouping columns will be excluded from the operation. Either pass `include_groups=False` to exclude the groupings or explicitly select the grouping columns after groupby to silence this warning.\n",
            "  heart_failure_records = grouped.apply(mark_readmission).reset_index(drop=True)\n"
          ]
        }
      ]
    },
    {
      "cell_type": "markdown",
      "source": [
        "handling missing values"
      ],
      "metadata": {
        "id": "5b7NeM9a81Oz"
      }
    },
    {
      "cell_type": "code",
      "source": [
        "# Check for missing values in date and ICD-9 code columns\n",
        "missing_summary = heart_failure_records[['admittime', 'dischtime', 'icd9_code']].isnull().sum()\n",
        "print(\"Missing values in key columns:\\n\", missing_summary)\n",
        "\n",
        "# Drop rows with missing critical values\n",
        "heart_failure_records = heart_failure_records.dropna(subset=['admittime', 'dischtime', 'icd9_code'])\n"
      ],
      "metadata": {
        "colab": {
          "base_uri": "https://localhost:8080/"
        },
        "id": "BiPOKiGm8vt4",
        "outputId": "1be5dcff-4368-4735-fa35-9cfd7be2bd88"
      },
      "execution_count": 7,
      "outputs": [
        {
          "output_type": "stream",
          "name": "stdout",
          "text": [
            "Missing values in key columns:\n",
            " admittime    0\n",
            "dischtime    0\n",
            "icd9_code    0\n",
            "dtype: int64\n"
          ]
        }
      ]
    },
    {
      "cell_type": "code",
      "source": [
        "#data consistency and integrity\n",
        "# Check for unique patients and admission counts\n",
        "unique_patients = heart_failure_records['subject_id'].nunique()\n",
        "print(\"Unique patients:\", unique_patients)\n",
        "\n",
        "# Optionally, inspect distribution of readmission flag\n",
        "print(heart_failure_records['readmission'].value_counts())\n"
      ],
      "metadata": {
        "colab": {
          "base_uri": "https://localhost:8080/"
        },
        "id": "l7t62P4b865d",
        "outputId": "c79d7b12-92b5-400f-e851-84525f5a6ffb"
      },
      "execution_count": 8,
      "outputs": [
        {
          "output_type": "stream",
          "name": "stdout",
          "text": [
            "Unique patients: 35\n",
            "readmission\n",
            "0    37\n",
            "1    24\n",
            "Name: count, dtype: int64\n"
          ]
        }
      ]
    },
    {
      "cell_type": "markdown",
      "source": [
        "feature engineering"
      ],
      "metadata": {
        "id": "0oWoErep_hbm"
      }
    },
    {
      "cell_type": "code",
      "source": [
        "import pandas as pd\n",
        "\n",
        "# 1. Compute Length of Stay (LOS)\n",
        "heart_failure_records['length_of_stay'] = (heart_failure_records['dischtime'] - heart_failure_records['admittime']).dt.days\n",
        "\n",
        "# 2. Convert ED times to datetime and calculate ED Wait Time (in hours)\n",
        "heart_failure_records['edouttime'] = pd.to_datetime(heart_failure_records['edouttime'], errors='coerce')\n",
        "heart_failure_records['edregtime'] = pd.to_datetime(heart_failure_records['edregtime'], errors='coerce')\n",
        "heart_failure_records['ed_wait_time'] = (heart_failure_records['edouttime'] - heart_failure_records['edregtime']).dt.total_seconds() / 3600.0\n",
        "\n",
        "# 3. Extract temporal features from admission time\n",
        "heart_failure_records['admission_dayofweek'] = heart_failure_records['admittime'].dt.dayofweek\n",
        "heart_failure_records['admission_hour'] = heart_failure_records['admittime'].dt.hour\n",
        "\n",
        "# 4. Calculate the number of prior admissions per patient\n",
        "heart_failure_records['prior_admissions'] = heart_failure_records.groupby('subject_id').cumcount()\n",
        "\n",
        "# 5. Encode categorical features if they exist\n",
        "categorical_features = ['admission_type', 'admission_location', 'insurance', 'religion', 'marital_status', 'ethnicity']\n",
        "\n",
        "# Check which of these features exist in the DataFrame\n",
        "available_cat_features = [col for col in categorical_features if col in heart_failure_records.columns]\n",
        "if available_cat_features:\n",
        "    heart_failure_records = pd.get_dummies(heart_failure_records, columns=available_cat_features, drop_first=True)\n",
        "else:\n",
        "    print(\"None of the specified categorical features are found in the DataFrame.\")\n",
        "\n",
        "# Additionally, encode 'gender' if it exists\n",
        "if 'gender' in heart_failure_records.columns:\n",
        "    heart_failure_records = pd.get_dummies(heart_failure_records, columns=['gender'], drop_first=True)\n",
        "\n",
        "# 6. Handle missing values in engineered features\n",
        "heart_failure_records['ed_wait_time'] = heart_failure_records['ed_wait_time'].fillna(0)\n",
        "\n",
        "# Inspect the engineered features\n",
        "print(\"Engineered Features Sample:\")\n",
        "print(heart_failure_records[['length_of_stay', 'ed_wait_time', 'admission_dayofweek', 'admission_hour', 'prior_admissions']].head())\n",
        "\n",
        "# ---------------------------\n",
        "# Define Features and Target Variable\n",
        "# ---------------------------\n",
        "\n",
        "# Define a list of candidate numerical features; include 'age' only if it exists\n",
        "candidate_num_cols = ['age', 'length_of_stay', 'ed_wait_time', 'admission_dayofweek', 'admission_hour', 'prior_admissions']\n",
        "num_cols = [col for col in candidate_num_cols if col in heart_failure_records.columns]\n",
        "\n",
        "# After dummy encoding, find all columns with prefixes indicating encoded categorical features.\n",
        "dummy_features = [col for col in heart_failure_records.columns if\n",
        "                  col.startswith('gender_') or col.startswith('admission_type_') or\n",
        "                  col.startswith('admission_location_') or col.startswith('insurance_') or\n",
        "                  col.startswith('religion_') or col.startswith('marital_status_') or\n",
        "                  col.startswith('ethnicity_')]\n",
        "\n",
        "# Combine numerical and dummy features\n",
        "features = num_cols + dummy_features\n",
        "\n",
        "# Define the target variable (assuming 'readmission' has been computed earlier)\n",
        "target = 'readmission'\n",
        "\n",
        "# Display the features used and a preview of the data with the target variable\n",
        "print(\"\\nFeatures used:\", features)\n",
        "print(\"\\nData Sample with Features and Target:\")\n",
        "print(heart_failure_records[features + [target]].head())\n"
      ],
      "metadata": {
        "colab": {
          "base_uri": "https://localhost:8080/"
        },
        "id": "lYj5BUQCCMKP",
        "outputId": "1d084590-a41c-4dd0-897a-8c2c169fdaff"
      },
      "execution_count": 9,
      "outputs": [
        {
          "output_type": "stream",
          "name": "stdout",
          "text": [
            "Engineered Features Sample:\n",
            "   length_of_stay  ed_wait_time  admission_dayofweek  admission_hour  \\\n",
            "0               8      6.283333                    1              21   \n",
            "1              12      0.000000                    1               7   \n",
            "2              10      5.783333                    1              10   \n",
            "3              12      5.733333                    2              19   \n",
            "4              12      5.733333                    2              19   \n",
            "\n",
            "   prior_admissions  \n",
            "0                 0  \n",
            "1                 0  \n",
            "2                 0  \n",
            "3                 0  \n",
            "4                 1  \n",
            "\n",
            "Features used: ['length_of_stay', 'ed_wait_time', 'admission_dayofweek', 'admission_hour', 'prior_admissions', 'admission_type_EMERGENCY', 'admission_type_URGENT', 'admission_location_PHYS REFERRAL/NORMAL DELI', 'admission_location_TRANSFER FROM HOSP/EXTRAM', 'insurance_Medicare', 'insurance_Private', 'religion_CHRISTIAN SCIENTIST', 'religion_JEWISH', 'religion_NOT SPECIFIED', 'religion_PROTESTANT QUAKER', 'religion_ROMANIAN EAST. ORTH', 'religion_UNOBTAINABLE', 'marital_status_MARRIED', 'marital_status_SEPARATED', 'marital_status_SINGLE', 'marital_status_UNKNOWN (DEFAULT)', 'marital_status_WIDOWED', 'ethnicity_HISPANIC OR LATINO', 'ethnicity_UNKNOWN/NOT SPECIFIED', 'ethnicity_WHITE']\n",
            "\n",
            "Data Sample with Features and Target:\n",
            "   length_of_stay  ed_wait_time  admission_dayofweek  admission_hour  \\\n",
            "0               8      6.283333                    1              21   \n",
            "1              12      0.000000                    1               7   \n",
            "2              10      5.783333                    1              10   \n",
            "3              12      5.733333                    2              19   \n",
            "4              12      5.733333                    2              19   \n",
            "\n",
            "   prior_admissions  admission_type_EMERGENCY  admission_type_URGENT  \\\n",
            "0                 0                      True                  False   \n",
            "1                 0                     False                  False   \n",
            "2                 0                      True                  False   \n",
            "3                 0                      True                  False   \n",
            "4                 1                      True                  False   \n",
            "\n",
            "   admission_location_PHYS REFERRAL/NORMAL DELI  \\\n",
            "0                                         False   \n",
            "1                                          True   \n",
            "2                                         False   \n",
            "3                                         False   \n",
            "4                                         False   \n",
            "\n",
            "   admission_location_TRANSFER FROM HOSP/EXTRAM  insurance_Medicare  ...  \\\n",
            "0                                         False                True  ...   \n",
            "1                                         False                True  ...   \n",
            "2                                         False                True  ...   \n",
            "3                                         False                True  ...   \n",
            "4                                         False                True  ...   \n",
            "\n",
            "   religion_UNOBTAINABLE  marital_status_MARRIED  marital_status_SEPARATED  \\\n",
            "0                  False                   False                      True   \n",
            "1                  False                    True                     False   \n",
            "2                  False                   False                     False   \n",
            "3                  False                   False                     False   \n",
            "4                  False                   False                     False   \n",
            "\n",
            "   marital_status_SINGLE  marital_status_UNKNOWN (DEFAULT)  \\\n",
            "0                  False                             False   \n",
            "1                  False                             False   \n",
            "2                  False                             False   \n",
            "3                  False                             False   \n",
            "4                  False                             False   \n",
            "\n",
            "   marital_status_WIDOWED  ethnicity_HISPANIC OR LATINO  \\\n",
            "0                   False                         False   \n",
            "1                   False                         False   \n",
            "2                   False                         False   \n",
            "3                    True                         False   \n",
            "4                    True                         False   \n",
            "\n",
            "   ethnicity_UNKNOWN/NOT SPECIFIED  ethnicity_WHITE  readmission  \n",
            "0                            False            False            0  \n",
            "1                            False             True            0  \n",
            "2                            False             True            0  \n",
            "3                            False             True            1  \n",
            "4                            False             True            0  \n",
            "\n",
            "[5 rows x 26 columns]\n"
          ]
        }
      ]
    },
    {
      "cell_type": "code",
      "source": [
        "from sklearn.preprocessing import StandardScaler\n",
        "\n",
        "scaler = StandardScaler()\n",
        "heart_failure_records[num_cols] = scaler.fit_transform(heart_failure_records[num_cols])\n"
      ],
      "metadata": {
        "id": "j56NKnagCStM"
      },
      "execution_count": 10,
      "outputs": []
    },
    {
      "cell_type": "code",
      "source": [
        "from sklearn.model_selection import train_test_split\n",
        "\n",
        "X = heart_failure_records[features]\n",
        "y = heart_failure_records[target]\n",
        "\n",
        "X_train, X_test, y_train, y_test = train_test_split(X, y, test_size=0.2, random_state=42)\n",
        "print(\"Train set size:\", X_train.shape, \"Test set size:\", X_test.shape)\n"
      ],
      "metadata": {
        "colab": {
          "base_uri": "https://localhost:8080/"
        },
        "id": "aNDNzqQiChmd",
        "outputId": "389236c6-f9c8-4305-cd6a-36df091bb4af"
      },
      "execution_count": 11,
      "outputs": [
        {
          "output_type": "stream",
          "name": "stdout",
          "text": [
            "Train set size: (48, 25) Test set size: (13, 25)\n"
          ]
        }
      ]
    },
    {
      "cell_type": "code",
      "source": [
        "from sklearn.model_selection import train_test_split\n",
        "import xgboost as xgb\n",
        "!pip install optuna\n",
        "import optuna\n",
        "from sklearn.model_selection import cross_val_score\n",
        "\n",
        "X = heart_failure_records[features]\n",
        "y = heart_failure_records[target]\n",
        "\n",
        "X_train, X_test, y_train, y_test = train_test_split(X, y, test_size=0.2, random_state=42)\n",
        "print(\"Train size:\", X_train.shape, \"Test size:\", X_test.shape)\n",
        "\n",
        "def objective(trial):\n",
        "    param = {\n",
        "        'n_estimators': trial.suggest_int('n_estimators', 100, 300),\n",
        "        'max_depth': trial.suggest_int('max_depth', 3, 6),\n",
        "        'learning_rate': trial.suggest_float('learning_rate', 0.01, 0.2, log=True),\n",
        "        'subsample': trial.suggest_float('subsample', 0.8, 1.0),\n",
        "        'colsample_bytree': trial.suggest_float('colsample_bytree', 0.8, 1.0),\n",
        "        'gamma': trial.suggest_float('gamma', 0, 0.2),\n",
        "        'min_child_weight': trial.suggest_int('min_child_weight', 1, 5)\n",
        "    }\n",
        "    model = xgb.XGBClassifier(eval_metric='logloss', random_state=42, **param)\n",
        "    scores = cross_val_score(model, X_train, y_train, cv=3, scoring='roc_auc', n_jobs=-1)\n",
        "    return scores.mean()\n",
        "\n",
        "study = optuna.create_study(direction='maximize')\n",
        "study.optimize(objective, n_trials=50)\n",
        "\n",
        "best_params = study.best_trial.params\n",
        "print(\"Best Hyperparameters:\", best_params)\n",
        "print(\"Best CV ROC-AUC:\", study.best_trial.value)\n",
        "\n",
        "best_model = xgb.XGBClassifier(eval_metric='logloss', random_state=42, **best_params)\n",
        "best_model.fit(X_train, y_train)\n"
      ],
      "metadata": {
        "colab": {
          "base_uri": "https://localhost:8080/",
          "height": 1000
        },
        "id": "EahiNYGy9uM_",
        "outputId": "aa0448a2-9234-498f-b5ab-d79ee93f285a"
      },
      "execution_count": 12,
      "outputs": [
        {
          "output_type": "stream",
          "name": "stdout",
          "text": [
            "Requirement already satisfied: optuna in /usr/local/lib/python3.11/dist-packages (4.2.1)\n",
            "Requirement already satisfied: alembic>=1.5.0 in /usr/local/lib/python3.11/dist-packages (from optuna) (1.15.1)\n",
            "Requirement already satisfied: colorlog in /usr/local/lib/python3.11/dist-packages (from optuna) (6.9.0)\n",
            "Requirement already satisfied: numpy in /usr/local/lib/python3.11/dist-packages (from optuna) (1.26.4)\n",
            "Requirement already satisfied: packaging>=20.0 in /usr/local/lib/python3.11/dist-packages (from optuna) (24.2)\n",
            "Requirement already satisfied: sqlalchemy>=1.4.2 in /usr/local/lib/python3.11/dist-packages (from optuna) (2.0.38)\n",
            "Requirement already satisfied: tqdm in /usr/local/lib/python3.11/dist-packages (from optuna) (4.67.1)\n",
            "Requirement already satisfied: PyYAML in /usr/local/lib/python3.11/dist-packages (from optuna) (6.0.2)\n",
            "Requirement already satisfied: Mako in /usr/local/lib/python3.11/dist-packages (from alembic>=1.5.0->optuna) (1.3.9)\n",
            "Requirement already satisfied: typing-extensions>=4.12 in /usr/local/lib/python3.11/dist-packages (from alembic>=1.5.0->optuna) (4.12.2)\n",
            "Requirement already satisfied: greenlet!=0.4.17 in /usr/local/lib/python3.11/dist-packages (from sqlalchemy>=1.4.2->optuna) (3.1.1)\n",
            "Requirement already satisfied: MarkupSafe>=0.9.2 in /usr/local/lib/python3.11/dist-packages (from Mako->alembic>=1.5.0->optuna) (3.0.2)\n"
          ]
        },
        {
          "output_type": "stream",
          "name": "stderr",
          "text": [
            "[I 2025-03-05 17:35:43,360] A new study created in memory with name: no-name-16a48abf-9f46-4c27-a952-3205e530093a\n"
          ]
        },
        {
          "output_type": "stream",
          "name": "stdout",
          "text": [
            "Train size: (48, 25) Test size: (13, 25)\n"
          ]
        },
        {
          "output_type": "stream",
          "name": "stderr",
          "text": [
            "[I 2025-03-05 17:35:46,460] Trial 0 finished with value: 0.5 and parameters: {'n_estimators': 122, 'max_depth': 3, 'learning_rate': 0.07427176317568338, 'subsample': 0.8976953662703333, 'colsample_bytree': 0.9986151440418978, 'gamma': 0.05916885138591721, 'min_child_weight': 4}. Best is trial 0 with value: 0.5.\n",
            "[I 2025-03-05 17:35:46,678] Trial 1 finished with value: 0.5 and parameters: {'n_estimators': 114, 'max_depth': 6, 'learning_rate': 0.0193788583319014, 'subsample': 0.8387270715711438, 'colsample_bytree': 0.8066259091375411, 'gamma': 0.08709477830398962, 'min_child_weight': 5}. Best is trial 0 with value: 0.5.\n",
            "[I 2025-03-05 17:35:46,885] Trial 2 finished with value: 0.6583333333333333 and parameters: {'n_estimators': 153, 'max_depth': 4, 'learning_rate': 0.051115888059043796, 'subsample': 0.8183927966853917, 'colsample_bytree': 0.9957748635718865, 'gamma': 0.08384129945641794, 'min_child_weight': 2}. Best is trial 2 with value: 0.6583333333333333.\n",
            "[I 2025-03-05 17:35:47,151] Trial 3 finished with value: 0.6305555555555555 and parameters: {'n_estimators': 248, 'max_depth': 4, 'learning_rate': 0.11177143571525192, 'subsample': 0.8903875691515668, 'colsample_bytree': 0.9994202849345857, 'gamma': 0.10028041989033781, 'min_child_weight': 2}. Best is trial 2 with value: 0.6583333333333333.\n",
            "[I 2025-03-05 17:35:47,403] Trial 4 finished with value: 0.5 and parameters: {'n_estimators': 242, 'max_depth': 4, 'learning_rate': 0.09788184535041242, 'subsample': 0.881967998180995, 'colsample_bytree': 0.9283762749306257, 'gamma': 0.19542399484663797, 'min_child_weight': 5}. Best is trial 2 with value: 0.6583333333333333.\n",
            "[I 2025-03-05 17:35:47,653] Trial 5 finished with value: 0.7944444444444444 and parameters: {'n_estimators': 230, 'max_depth': 4, 'learning_rate': 0.05430477370591152, 'subsample': 0.9478704298285009, 'colsample_bytree': 0.9074139523326146, 'gamma': 0.18220988955192718, 'min_child_weight': 1}. Best is trial 5 with value: 0.7944444444444444.\n",
            "[I 2025-03-05 17:35:47,854] Trial 6 finished with value: 0.5 and parameters: {'n_estimators': 297, 'max_depth': 6, 'learning_rate': 0.0737593307180245, 'subsample': 0.8925276653095976, 'colsample_bytree': 0.837907599383148, 'gamma': 0.16049963299083903, 'min_child_weight': 4}. Best is trial 5 with value: 0.7944444444444444.\n",
            "[I 2025-03-05 17:35:48,005] Trial 7 finished with value: 0.5694444444444444 and parameters: {'n_estimators': 179, 'max_depth': 5, 'learning_rate': 0.028282233686439534, 'subsample': 0.9880492710060902, 'colsample_bytree': 0.8292808275172392, 'gamma': 0.16377308584621833, 'min_child_weight': 3}. Best is trial 5 with value: 0.7944444444444444.\n",
            "[I 2025-03-05 17:35:48,155] Trial 8 finished with value: 0.5 and parameters: {'n_estimators': 181, 'max_depth': 6, 'learning_rate': 0.043705253185298144, 'subsample': 0.9037814331435452, 'colsample_bytree': 0.9876175012289131, 'gamma': 0.11041939004539213, 'min_child_weight': 5}. Best is trial 5 with value: 0.7944444444444444.\n",
            "[I 2025-03-05 17:35:48,287] Trial 9 finished with value: 0.5 and parameters: {'n_estimators': 111, 'max_depth': 3, 'learning_rate': 0.04226242301571994, 'subsample': 0.8047129102425384, 'colsample_bytree': 0.8367173505173274, 'gamma': 0.1282173217723324, 'min_child_weight': 4}. Best is trial 5 with value: 0.7944444444444444.\n",
            "[I 2025-03-05 17:35:48,489] Trial 10 finished with value: 0.7777777777777777 and parameters: {'n_estimators': 236, 'max_depth': 5, 'learning_rate': 0.18463166330922903, 'subsample': 0.9803208930679176, 'colsample_bytree': 0.8969065483515931, 'gamma': 0.0026748965868017144, 'min_child_weight': 1}. Best is trial 5 with value: 0.7944444444444444.\n",
            "[I 2025-03-05 17:35:48,705] Trial 11 finished with value: 0.7555555555555555 and parameters: {'n_estimators': 232, 'max_depth': 5, 'learning_rate': 0.17546537704642723, 'subsample': 0.9852547732941824, 'colsample_bytree': 0.8975332620817965, 'gamma': 0.00045847468814697034, 'min_child_weight': 1}. Best is trial 5 with value: 0.7944444444444444.\n",
            "[I 2025-03-05 17:35:48,956] Trial 12 finished with value: 0.8166666666666668 and parameters: {'n_estimators': 278, 'max_depth': 5, 'learning_rate': 0.010327154797489977, 'subsample': 0.945279499369469, 'colsample_bytree': 0.8982007807264204, 'gamma': 0.0003354733674079541, 'min_child_weight': 1}. Best is trial 12 with value: 0.8166666666666668.\n",
            "[I 2025-03-05 17:35:49,180] Trial 13 finished with value: 0.736111111111111 and parameters: {'n_estimators': 299, 'max_depth': 4, 'learning_rate': 0.01031176014889476, 'subsample': 0.9457485375266828, 'colsample_bytree': 0.9329347421293912, 'gamma': 0.04685247416823674, 'min_child_weight': 2}. Best is trial 12 with value: 0.8166666666666668.\n",
            "[I 2025-03-05 17:35:49,422] Trial 14 finished with value: 0.8000000000000002 and parameters: {'n_estimators': 271, 'max_depth': 5, 'learning_rate': 0.01233467257366184, 'subsample': 0.9412915533037138, 'colsample_bytree': 0.8705802143853816, 'gamma': 0.03932635048053651, 'min_child_weight': 1}. Best is trial 12 with value: 0.8166666666666668.\n",
            "[I 2025-03-05 17:35:49,636] Trial 15 finished with value: 0.7083333333333334 and parameters: {'n_estimators': 271, 'max_depth': 5, 'learning_rate': 0.010873524500046252, 'subsample': 0.9325626487288371, 'colsample_bytree': 0.8701718364017647, 'gamma': 0.038960849268367015, 'min_child_weight': 2}. Best is trial 12 with value: 0.8166666666666668.\n",
            "[I 2025-03-05 17:35:49,890] Trial 16 finished with value: 0.7944444444444446 and parameters: {'n_estimators': 270, 'max_depth': 5, 'learning_rate': 0.016680256643111294, 'subsample': 0.9246779460692209, 'colsample_bytree': 0.8692769762861607, 'gamma': 0.03231279087526606, 'min_child_weight': 1}. Best is trial 12 with value: 0.8166666666666668.\n",
            "[I 2025-03-05 17:35:50,080] Trial 17 finished with value: 0.5611111111111111 and parameters: {'n_estimators': 207, 'max_depth': 6, 'learning_rate': 0.016705520086163318, 'subsample': 0.9583030814030201, 'colsample_bytree': 0.9574697029215282, 'gamma': 0.02101436565006555, 'min_child_weight': 3}. Best is trial 12 with value: 0.8166666666666668.\n",
            "[I 2025-03-05 17:35:50,303] Trial 18 finished with value: 0.7999999999999999 and parameters: {'n_estimators': 271, 'max_depth': 5, 'learning_rate': 0.025543783577811258, 'subsample': 0.8658676479267968, 'colsample_bytree': 0.875385990787532, 'gamma': 0.05683049492276961, 'min_child_weight': 1}. Best is trial 12 with value: 0.8166666666666668.\n",
            "[I 2025-03-05 17:35:50,496] Trial 19 finished with value: 0.575 and parameters: {'n_estimators': 208, 'max_depth': 6, 'learning_rate': 0.013380407380568978, 'subsample': 0.9661269685640053, 'colsample_bytree': 0.8584566637040649, 'gamma': 0.018002843070132266, 'min_child_weight': 3}. Best is trial 12 with value: 0.8166666666666668.\n",
            "[I 2025-03-05 17:35:50,720] Trial 20 finished with value: 0.6722222222222222 and parameters: {'n_estimators': 278, 'max_depth': 5, 'learning_rate': 0.02543039955927196, 'subsample': 0.9218991237559403, 'colsample_bytree': 0.9219054762954141, 'gamma': 0.07603466443088165, 'min_child_weight': 2}. Best is trial 12 with value: 0.8166666666666668.\n",
            "[I 2025-03-05 17:35:50,945] Trial 21 finished with value: 0.7999999999999999 and parameters: {'n_estimators': 257, 'max_depth': 5, 'learning_rate': 0.026905778685749508, 'subsample': 0.8580573718979403, 'colsample_bytree': 0.8782875077133058, 'gamma': 0.06172779353078623, 'min_child_weight': 1}. Best is trial 12 with value: 0.8166666666666668.\n",
            "[I 2025-03-05 17:35:51,180] Trial 22 finished with value: 0.8055555555555557 and parameters: {'n_estimators': 285, 'max_depth': 5, 'learning_rate': 0.013555610718691154, 'subsample': 0.8666878414044819, 'colsample_bytree': 0.887988103907574, 'gamma': 0.021193604884838048, 'min_child_weight': 1}. Best is trial 12 with value: 0.8166666666666668.\n",
            "[I 2025-03-05 17:35:51,416] Trial 23 finished with value: 0.8000000000000002 and parameters: {'n_estimators': 286, 'max_depth': 5, 'learning_rate': 0.013400465746743664, 'subsample': 0.9137731355878015, 'colsample_bytree': 0.953448737836941, 'gamma': 0.019529306108345718, 'min_child_weight': 1}. Best is trial 12 with value: 0.8166666666666668.\n",
            "[I 2025-03-05 17:35:51,619] Trial 24 finished with value: 0.7027777777777778 and parameters: {'n_estimators': 256, 'max_depth': 4, 'learning_rate': 0.012649739613477023, 'subsample': 0.8618680953632117, 'colsample_bytree': 0.8547754317138141, 'gamma': 0.000198961047131907, 'min_child_weight': 2}. Best is trial 12 with value: 0.8166666666666668.\n",
            "[I 2025-03-05 17:35:51,876] Trial 25 finished with value: 0.7944444444444444 and parameters: {'n_estimators': 287, 'max_depth': 5, 'learning_rate': 0.018894706540361947, 'subsample': 0.9994290320762063, 'colsample_bytree': 0.9114579369782481, 'gamma': 0.029776069616096454, 'min_child_weight': 1}. Best is trial 12 with value: 0.8166666666666668.\n",
            "[I 2025-03-05 17:35:52,089] Trial 26 finished with value: 0.7305555555555555 and parameters: {'n_estimators': 261, 'max_depth': 6, 'learning_rate': 0.010068652151235832, 'subsample': 0.9371143482799353, 'colsample_bytree': 0.8886205276961704, 'gamma': 0.013518384227287697, 'min_child_weight': 2}. Best is trial 12 with value: 0.8166666666666668.\n",
            "[I 2025-03-05 17:35:52,318] Trial 27 finished with value: 0.8055555555555557 and parameters: {'n_estimators': 216, 'max_depth': 5, 'learning_rate': 0.03245473146464909, 'subsample': 0.8422394685209519, 'colsample_bytree': 0.85167162977573, 'gamma': 0.046675884622366874, 'min_child_weight': 1}. Best is trial 12 with value: 0.8166666666666668.\n",
            "[I 2025-03-05 17:35:52,515] Trial 28 finished with value: 0.5361111111111111 and parameters: {'n_estimators': 222, 'max_depth': 4, 'learning_rate': 0.035189337609782, 'subsample': 0.834469126562233, 'colsample_bytree': 0.8496596068191059, 'gamma': 0.06815362155597, 'min_child_weight': 3}. Best is trial 12 with value: 0.8166666666666668.\n",
            "[I 2025-03-05 17:35:52,700] Trial 29 finished with value: 0.8055555555555557 and parameters: {'n_estimators': 137, 'max_depth': 3, 'learning_rate': 0.021684011471203034, 'subsample': 0.876353617190036, 'colsample_bytree': 0.8108603894843786, 'gamma': 0.051719335720545226, 'min_child_weight': 1}. Best is trial 12 with value: 0.8166666666666668.\n",
            "[I 2025-03-05 17:35:52,898] Trial 30 finished with value: 0.5 and parameters: {'n_estimators': 187, 'max_depth': 6, 'learning_rate': 0.01551503443282754, 'subsample': 0.8383231394951248, 'colsample_bytree': 0.9454755605226975, 'gamma': 0.12510156498227634, 'min_child_weight': 4}. Best is trial 12 with value: 0.8166666666666668.\n",
            "[I 2025-03-05 17:35:53,073] Trial 31 finished with value: 0.8055555555555557 and parameters: {'n_estimators': 138, 'max_depth': 3, 'learning_rate': 0.02101189143562945, 'subsample': 0.8763549884196401, 'colsample_bytree': 0.8006638918471221, 'gamma': 0.026635025166557105, 'min_child_weight': 1}. Best is trial 12 with value: 0.8166666666666668.\n",
            "[I 2025-03-05 17:35:53,261] Trial 32 finished with value: 0.8111111111111112 and parameters: {'n_estimators': 154, 'max_depth': 3, 'learning_rate': 0.020747420443407633, 'subsample': 0.8500475097515244, 'colsample_bytree': 0.8176916443283481, 'gamma': 0.05165034581007066, 'min_child_weight': 1}. Best is trial 12 with value: 0.8166666666666668.\n",
            "[I 2025-03-05 17:35:53,438] Trial 33 finished with value: 0.6638888888888889 and parameters: {'n_estimators': 161, 'max_depth': 3, 'learning_rate': 0.03210893766878697, 'subsample': 0.8486335964923241, 'colsample_bytree': 0.8188365100487685, 'gamma': 0.04275461447404178, 'min_child_weight': 2}. Best is trial 12 with value: 0.8166666666666668.\n",
            "[I 2025-03-05 17:35:53,622] Trial 34 finished with value: 0.8222222222222223 and parameters: {'n_estimators': 162, 'max_depth': 4, 'learning_rate': 0.016070874852138782, 'subsample': 0.8244671797780372, 'colsample_bytree': 0.8217709413484621, 'gamma': 0.07200807419349463, 'min_child_weight': 1}. Best is trial 34 with value: 0.8222222222222223.\n",
            "[I 2025-03-05 17:35:53,803] Trial 35 finished with value: 0.7194444444444444 and parameters: {'n_estimators': 156, 'max_depth': 3, 'learning_rate': 0.016114571912256133, 'subsample': 0.8228731276232167, 'colsample_bytree': 0.8262846414611625, 'gamma': 0.0963783607803199, 'min_child_weight': 2}. Best is trial 34 with value: 0.8222222222222223.\n",
            "[I 2025-03-05 17:35:53,989] Trial 36 finished with value: 0.8444444444444444 and parameters: {'n_estimators': 128, 'max_depth': 4, 'learning_rate': 0.014458963998181132, 'subsample': 0.825657797739609, 'colsample_bytree': 0.8117564356588899, 'gamma': 0.07777583390542606, 'min_child_weight': 1}. Best is trial 36 with value: 0.8444444444444444.\n",
            "[I 2025-03-05 17:35:54,153] Trial 37 finished with value: 0.6972222222222223 and parameters: {'n_estimators': 134, 'max_depth': 4, 'learning_rate': 0.02015802462097675, 'subsample': 0.8020138522396005, 'colsample_bytree': 0.8092404850981377, 'gamma': 0.08351067024177591, 'min_child_weight': 2}. Best is trial 36 with value: 0.8444444444444444.\n",
            "[I 2025-03-05 17:35:54,323] Trial 38 finished with value: 0.8388888888888889 and parameters: {'n_estimators': 102, 'max_depth': 4, 'learning_rate': 0.011292528040079202, 'subsample': 0.8213708662179228, 'colsample_bytree': 0.8397971851992777, 'gamma': 0.0717251334085642, 'min_child_weight': 1}. Best is trial 36 with value: 0.8444444444444444.\n",
            "[I 2025-03-05 17:35:54,482] Trial 39 finished with value: 0.8305555555555556 and parameters: {'n_estimators': 104, 'max_depth': 4, 'learning_rate': 0.011749827944588362, 'subsample': 0.8203489073527476, 'colsample_bytree': 0.8402326537876118, 'gamma': 0.12058024619421533, 'min_child_weight': 1}. Best is trial 36 with value: 0.8444444444444444.\n",
            "[I 2025-03-05 17:35:54,638] Trial 40 finished with value: 0.6611111111111111 and parameters: {'n_estimators': 101, 'max_depth': 4, 'learning_rate': 0.06685431147343138, 'subsample': 0.8164929589569763, 'colsample_bytree': 0.8367596799492429, 'gamma': 0.11441648144733019, 'min_child_weight': 2}. Best is trial 36 with value: 0.8444444444444444.\n",
            "[I 2025-03-05 17:35:54,890] Trial 41 finished with value: 0.8388888888888889 and parameters: {'n_estimators': 122, 'max_depth': 4, 'learning_rate': 0.01145366332732934, 'subsample': 0.8255587264762584, 'colsample_bytree': 0.8245382619239191, 'gamma': 0.1480642670104402, 'min_child_weight': 1}. Best is trial 36 with value: 0.8444444444444444.\n",
            "[I 2025-03-05 17:35:55,211] Trial 42 finished with value: 0.8388888888888889 and parameters: {'n_estimators': 121, 'max_depth': 4, 'learning_rate': 0.011846522863600821, 'subsample': 0.8283164359359377, 'colsample_bytree': 0.8262002181371378, 'gamma': 0.1464655306538524, 'min_child_weight': 1}. Best is trial 36 with value: 0.8444444444444444.\n",
            "[I 2025-03-05 17:35:55,523] Trial 43 finished with value: 0.8361111111111111 and parameters: {'n_estimators': 121, 'max_depth': 4, 'learning_rate': 0.011675746052782925, 'subsample': 0.8108377578268261, 'colsample_bytree': 0.8435581604748722, 'gamma': 0.13802632740813803, 'min_child_weight': 1}. Best is trial 36 with value: 0.8444444444444444.\n",
            "[I 2025-03-05 17:35:55,824] Trial 44 finished with value: 0.8222222222222223 and parameters: {'n_estimators': 124, 'max_depth': 4, 'learning_rate': 0.014482564379284971, 'subsample': 0.8125537154663693, 'colsample_bytree': 0.8001626583235086, 'gamma': 0.14499531653460362, 'min_child_weight': 1}. Best is trial 36 with value: 0.8444444444444444.\n",
            "[I 2025-03-05 17:35:56,008] Trial 45 finished with value: 0.8333333333333334 and parameters: {'n_estimators': 120, 'max_depth': 4, 'learning_rate': 0.011858332124453565, 'subsample': 0.8303688172168967, 'colsample_bytree': 0.8278886585240832, 'gamma': 0.1405876132735324, 'min_child_weight': 1}. Best is trial 36 with value: 0.8444444444444444.\n",
            "[I 2025-03-05 17:35:56,169] Trial 46 finished with value: 0.5 and parameters: {'n_estimators': 114, 'max_depth': 4, 'learning_rate': 0.017989436966096777, 'subsample': 0.8095650255309638, 'colsample_bytree': 0.8448132581699096, 'gamma': 0.1756041364425041, 'min_child_weight': 5}. Best is trial 36 with value: 0.8444444444444444.\n",
            "[I 2025-03-05 17:35:56,334] Trial 47 finished with value: 0.7777777777777777 and parameters: {'n_estimators': 127, 'max_depth': 4, 'learning_rate': 0.1026450731772295, 'subsample': 0.8283177268227933, 'colsample_bytree': 0.8602512015768399, 'gamma': 0.1533444000729186, 'min_child_weight': 1}. Best is trial 36 with value: 0.8444444444444444.\n",
            "[I 2025-03-05 17:35:56,517] Trial 48 finished with value: 0.8222222222222223 and parameters: {'n_estimators': 144, 'max_depth': 4, 'learning_rate': 0.011475908923119883, 'subsample': 0.8029999586408678, 'colsample_bytree': 0.8325870271346802, 'gamma': 0.13558630904263497, 'min_child_weight': 1}. Best is trial 36 with value: 0.8444444444444444.\n",
            "[I 2025-03-05 17:35:56,686] Trial 49 finished with value: 0.7888888888888889 and parameters: {'n_estimators': 113, 'max_depth': 4, 'learning_rate': 0.014271437512090212, 'subsample': 0.8472331445405494, 'colsample_bytree': 0.8085661880723736, 'gamma': 0.10035707208085962, 'min_child_weight': 2}. Best is trial 36 with value: 0.8444444444444444.\n"
          ]
        },
        {
          "output_type": "stream",
          "name": "stdout",
          "text": [
            "Best Hyperparameters: {'n_estimators': 128, 'max_depth': 4, 'learning_rate': 0.014458963998181132, 'subsample': 0.825657797739609, 'colsample_bytree': 0.8117564356588899, 'gamma': 0.07777583390542606, 'min_child_weight': 1}\n",
            "Best CV ROC-AUC: 0.8444444444444444\n"
          ]
        },
        {
          "output_type": "execute_result",
          "data": {
            "text/plain": [
              "XGBClassifier(base_score=None, booster=None, callbacks=None,\n",
              "              colsample_bylevel=None, colsample_bynode=None,\n",
              "              colsample_bytree=0.8117564356588899, device=None,\n",
              "              early_stopping_rounds=None, enable_categorical=False,\n",
              "              eval_metric='logloss', feature_types=None,\n",
              "              gamma=0.07777583390542606, grow_policy=None, importance_type=None,\n",
              "              interaction_constraints=None, learning_rate=0.014458963998181132,\n",
              "              max_bin=None, max_cat_threshold=None, max_cat_to_onehot=None,\n",
              "              max_delta_step=None, max_depth=4, max_leaves=None,\n",
              "              min_child_weight=1, missing=nan, monotone_constraints=None,\n",
              "              multi_strategy=None, n_estimators=128, n_jobs=None,\n",
              "              num_parallel_tree=None, random_state=42, ...)"
            ],
            "text/html": [
              "<style>#sk-container-id-1 {\n",
              "  /* Definition of color scheme common for light and dark mode */\n",
              "  --sklearn-color-text: #000;\n",
              "  --sklearn-color-text-muted: #666;\n",
              "  --sklearn-color-line: gray;\n",
              "  /* Definition of color scheme for unfitted estimators */\n",
              "  --sklearn-color-unfitted-level-0: #fff5e6;\n",
              "  --sklearn-color-unfitted-level-1: #f6e4d2;\n",
              "  --sklearn-color-unfitted-level-2: #ffe0b3;\n",
              "  --sklearn-color-unfitted-level-3: chocolate;\n",
              "  /* Definition of color scheme for fitted estimators */\n",
              "  --sklearn-color-fitted-level-0: #f0f8ff;\n",
              "  --sklearn-color-fitted-level-1: #d4ebff;\n",
              "  --sklearn-color-fitted-level-2: #b3dbfd;\n",
              "  --sklearn-color-fitted-level-3: cornflowerblue;\n",
              "\n",
              "  /* Specific color for light theme */\n",
              "  --sklearn-color-text-on-default-background: var(--sg-text-color, var(--theme-code-foreground, var(--jp-content-font-color1, black)));\n",
              "  --sklearn-color-background: var(--sg-background-color, var(--theme-background, var(--jp-layout-color0, white)));\n",
              "  --sklearn-color-border-box: var(--sg-text-color, var(--theme-code-foreground, var(--jp-content-font-color1, black)));\n",
              "  --sklearn-color-icon: #696969;\n",
              "\n",
              "  @media (prefers-color-scheme: dark) {\n",
              "    /* Redefinition of color scheme for dark theme */\n",
              "    --sklearn-color-text-on-default-background: var(--sg-text-color, var(--theme-code-foreground, var(--jp-content-font-color1, white)));\n",
              "    --sklearn-color-background: var(--sg-background-color, var(--theme-background, var(--jp-layout-color0, #111)));\n",
              "    --sklearn-color-border-box: var(--sg-text-color, var(--theme-code-foreground, var(--jp-content-font-color1, white)));\n",
              "    --sklearn-color-icon: #878787;\n",
              "  }\n",
              "}\n",
              "\n",
              "#sk-container-id-1 {\n",
              "  color: var(--sklearn-color-text);\n",
              "}\n",
              "\n",
              "#sk-container-id-1 pre {\n",
              "  padding: 0;\n",
              "}\n",
              "\n",
              "#sk-container-id-1 input.sk-hidden--visually {\n",
              "  border: 0;\n",
              "  clip: rect(1px 1px 1px 1px);\n",
              "  clip: rect(1px, 1px, 1px, 1px);\n",
              "  height: 1px;\n",
              "  margin: -1px;\n",
              "  overflow: hidden;\n",
              "  padding: 0;\n",
              "  position: absolute;\n",
              "  width: 1px;\n",
              "}\n",
              "\n",
              "#sk-container-id-1 div.sk-dashed-wrapped {\n",
              "  border: 1px dashed var(--sklearn-color-line);\n",
              "  margin: 0 0.4em 0.5em 0.4em;\n",
              "  box-sizing: border-box;\n",
              "  padding-bottom: 0.4em;\n",
              "  background-color: var(--sklearn-color-background);\n",
              "}\n",
              "\n",
              "#sk-container-id-1 div.sk-container {\n",
              "  /* jupyter's `normalize.less` sets `[hidden] { display: none; }`\n",
              "     but bootstrap.min.css set `[hidden] { display: none !important; }`\n",
              "     so we also need the `!important` here to be able to override the\n",
              "     default hidden behavior on the sphinx rendered scikit-learn.org.\n",
              "     See: https://github.com/scikit-learn/scikit-learn/issues/21755 */\n",
              "  display: inline-block !important;\n",
              "  position: relative;\n",
              "}\n",
              "\n",
              "#sk-container-id-1 div.sk-text-repr-fallback {\n",
              "  display: none;\n",
              "}\n",
              "\n",
              "div.sk-parallel-item,\n",
              "div.sk-serial,\n",
              "div.sk-item {\n",
              "  /* draw centered vertical line to link estimators */\n",
              "  background-image: linear-gradient(var(--sklearn-color-text-on-default-background), var(--sklearn-color-text-on-default-background));\n",
              "  background-size: 2px 100%;\n",
              "  background-repeat: no-repeat;\n",
              "  background-position: center center;\n",
              "}\n",
              "\n",
              "/* Parallel-specific style estimator block */\n",
              "\n",
              "#sk-container-id-1 div.sk-parallel-item::after {\n",
              "  content: \"\";\n",
              "  width: 100%;\n",
              "  border-bottom: 2px solid var(--sklearn-color-text-on-default-background);\n",
              "  flex-grow: 1;\n",
              "}\n",
              "\n",
              "#sk-container-id-1 div.sk-parallel {\n",
              "  display: flex;\n",
              "  align-items: stretch;\n",
              "  justify-content: center;\n",
              "  background-color: var(--sklearn-color-background);\n",
              "  position: relative;\n",
              "}\n",
              "\n",
              "#sk-container-id-1 div.sk-parallel-item {\n",
              "  display: flex;\n",
              "  flex-direction: column;\n",
              "}\n",
              "\n",
              "#sk-container-id-1 div.sk-parallel-item:first-child::after {\n",
              "  align-self: flex-end;\n",
              "  width: 50%;\n",
              "}\n",
              "\n",
              "#sk-container-id-1 div.sk-parallel-item:last-child::after {\n",
              "  align-self: flex-start;\n",
              "  width: 50%;\n",
              "}\n",
              "\n",
              "#sk-container-id-1 div.sk-parallel-item:only-child::after {\n",
              "  width: 0;\n",
              "}\n",
              "\n",
              "/* Serial-specific style estimator block */\n",
              "\n",
              "#sk-container-id-1 div.sk-serial {\n",
              "  display: flex;\n",
              "  flex-direction: column;\n",
              "  align-items: center;\n",
              "  background-color: var(--sklearn-color-background);\n",
              "  padding-right: 1em;\n",
              "  padding-left: 1em;\n",
              "}\n",
              "\n",
              "\n",
              "/* Toggleable style: style used for estimator/Pipeline/ColumnTransformer box that is\n",
              "clickable and can be expanded/collapsed.\n",
              "- Pipeline and ColumnTransformer use this feature and define the default style\n",
              "- Estimators will overwrite some part of the style using the `sk-estimator` class\n",
              "*/\n",
              "\n",
              "/* Pipeline and ColumnTransformer style (default) */\n",
              "\n",
              "#sk-container-id-1 div.sk-toggleable {\n",
              "  /* Default theme specific background. It is overwritten whether we have a\n",
              "  specific estimator or a Pipeline/ColumnTransformer */\n",
              "  background-color: var(--sklearn-color-background);\n",
              "}\n",
              "\n",
              "/* Toggleable label */\n",
              "#sk-container-id-1 label.sk-toggleable__label {\n",
              "  cursor: pointer;\n",
              "  display: flex;\n",
              "  width: 100%;\n",
              "  margin-bottom: 0;\n",
              "  padding: 0.5em;\n",
              "  box-sizing: border-box;\n",
              "  text-align: center;\n",
              "  align-items: start;\n",
              "  justify-content: space-between;\n",
              "  gap: 0.5em;\n",
              "}\n",
              "\n",
              "#sk-container-id-1 label.sk-toggleable__label .caption {\n",
              "  font-size: 0.6rem;\n",
              "  font-weight: lighter;\n",
              "  color: var(--sklearn-color-text-muted);\n",
              "}\n",
              "\n",
              "#sk-container-id-1 label.sk-toggleable__label-arrow:before {\n",
              "  /* Arrow on the left of the label */\n",
              "  content: \"▸\";\n",
              "  float: left;\n",
              "  margin-right: 0.25em;\n",
              "  color: var(--sklearn-color-icon);\n",
              "}\n",
              "\n",
              "#sk-container-id-1 label.sk-toggleable__label-arrow:hover:before {\n",
              "  color: var(--sklearn-color-text);\n",
              "}\n",
              "\n",
              "/* Toggleable content - dropdown */\n",
              "\n",
              "#sk-container-id-1 div.sk-toggleable__content {\n",
              "  max-height: 0;\n",
              "  max-width: 0;\n",
              "  overflow: hidden;\n",
              "  text-align: left;\n",
              "  /* unfitted */\n",
              "  background-color: var(--sklearn-color-unfitted-level-0);\n",
              "}\n",
              "\n",
              "#sk-container-id-1 div.sk-toggleable__content.fitted {\n",
              "  /* fitted */\n",
              "  background-color: var(--sklearn-color-fitted-level-0);\n",
              "}\n",
              "\n",
              "#sk-container-id-1 div.sk-toggleable__content pre {\n",
              "  margin: 0.2em;\n",
              "  border-radius: 0.25em;\n",
              "  color: var(--sklearn-color-text);\n",
              "  /* unfitted */\n",
              "  background-color: var(--sklearn-color-unfitted-level-0);\n",
              "}\n",
              "\n",
              "#sk-container-id-1 div.sk-toggleable__content.fitted pre {\n",
              "  /* unfitted */\n",
              "  background-color: var(--sklearn-color-fitted-level-0);\n",
              "}\n",
              "\n",
              "#sk-container-id-1 input.sk-toggleable__control:checked~div.sk-toggleable__content {\n",
              "  /* Expand drop-down */\n",
              "  max-height: 200px;\n",
              "  max-width: 100%;\n",
              "  overflow: auto;\n",
              "}\n",
              "\n",
              "#sk-container-id-1 input.sk-toggleable__control:checked~label.sk-toggleable__label-arrow:before {\n",
              "  content: \"▾\";\n",
              "}\n",
              "\n",
              "/* Pipeline/ColumnTransformer-specific style */\n",
              "\n",
              "#sk-container-id-1 div.sk-label input.sk-toggleable__control:checked~label.sk-toggleable__label {\n",
              "  color: var(--sklearn-color-text);\n",
              "  background-color: var(--sklearn-color-unfitted-level-2);\n",
              "}\n",
              "\n",
              "#sk-container-id-1 div.sk-label.fitted input.sk-toggleable__control:checked~label.sk-toggleable__label {\n",
              "  background-color: var(--sklearn-color-fitted-level-2);\n",
              "}\n",
              "\n",
              "/* Estimator-specific style */\n",
              "\n",
              "/* Colorize estimator box */\n",
              "#sk-container-id-1 div.sk-estimator input.sk-toggleable__control:checked~label.sk-toggleable__label {\n",
              "  /* unfitted */\n",
              "  background-color: var(--sklearn-color-unfitted-level-2);\n",
              "}\n",
              "\n",
              "#sk-container-id-1 div.sk-estimator.fitted input.sk-toggleable__control:checked~label.sk-toggleable__label {\n",
              "  /* fitted */\n",
              "  background-color: var(--sklearn-color-fitted-level-2);\n",
              "}\n",
              "\n",
              "#sk-container-id-1 div.sk-label label.sk-toggleable__label,\n",
              "#sk-container-id-1 div.sk-label label {\n",
              "  /* The background is the default theme color */\n",
              "  color: var(--sklearn-color-text-on-default-background);\n",
              "}\n",
              "\n",
              "/* On hover, darken the color of the background */\n",
              "#sk-container-id-1 div.sk-label:hover label.sk-toggleable__label {\n",
              "  color: var(--sklearn-color-text);\n",
              "  background-color: var(--sklearn-color-unfitted-level-2);\n",
              "}\n",
              "\n",
              "/* Label box, darken color on hover, fitted */\n",
              "#sk-container-id-1 div.sk-label.fitted:hover label.sk-toggleable__label.fitted {\n",
              "  color: var(--sklearn-color-text);\n",
              "  background-color: var(--sklearn-color-fitted-level-2);\n",
              "}\n",
              "\n",
              "/* Estimator label */\n",
              "\n",
              "#sk-container-id-1 div.sk-label label {\n",
              "  font-family: monospace;\n",
              "  font-weight: bold;\n",
              "  display: inline-block;\n",
              "  line-height: 1.2em;\n",
              "}\n",
              "\n",
              "#sk-container-id-1 div.sk-label-container {\n",
              "  text-align: center;\n",
              "}\n",
              "\n",
              "/* Estimator-specific */\n",
              "#sk-container-id-1 div.sk-estimator {\n",
              "  font-family: monospace;\n",
              "  border: 1px dotted var(--sklearn-color-border-box);\n",
              "  border-radius: 0.25em;\n",
              "  box-sizing: border-box;\n",
              "  margin-bottom: 0.5em;\n",
              "  /* unfitted */\n",
              "  background-color: var(--sklearn-color-unfitted-level-0);\n",
              "}\n",
              "\n",
              "#sk-container-id-1 div.sk-estimator.fitted {\n",
              "  /* fitted */\n",
              "  background-color: var(--sklearn-color-fitted-level-0);\n",
              "}\n",
              "\n",
              "/* on hover */\n",
              "#sk-container-id-1 div.sk-estimator:hover {\n",
              "  /* unfitted */\n",
              "  background-color: var(--sklearn-color-unfitted-level-2);\n",
              "}\n",
              "\n",
              "#sk-container-id-1 div.sk-estimator.fitted:hover {\n",
              "  /* fitted */\n",
              "  background-color: var(--sklearn-color-fitted-level-2);\n",
              "}\n",
              "\n",
              "/* Specification for estimator info (e.g. \"i\" and \"?\") */\n",
              "\n",
              "/* Common style for \"i\" and \"?\" */\n",
              "\n",
              ".sk-estimator-doc-link,\n",
              "a:link.sk-estimator-doc-link,\n",
              "a:visited.sk-estimator-doc-link {\n",
              "  float: right;\n",
              "  font-size: smaller;\n",
              "  line-height: 1em;\n",
              "  font-family: monospace;\n",
              "  background-color: var(--sklearn-color-background);\n",
              "  border-radius: 1em;\n",
              "  height: 1em;\n",
              "  width: 1em;\n",
              "  text-decoration: none !important;\n",
              "  margin-left: 0.5em;\n",
              "  text-align: center;\n",
              "  /* unfitted */\n",
              "  border: var(--sklearn-color-unfitted-level-1) 1pt solid;\n",
              "  color: var(--sklearn-color-unfitted-level-1);\n",
              "}\n",
              "\n",
              ".sk-estimator-doc-link.fitted,\n",
              "a:link.sk-estimator-doc-link.fitted,\n",
              "a:visited.sk-estimator-doc-link.fitted {\n",
              "  /* fitted */\n",
              "  border: var(--sklearn-color-fitted-level-1) 1pt solid;\n",
              "  color: var(--sklearn-color-fitted-level-1);\n",
              "}\n",
              "\n",
              "/* On hover */\n",
              "div.sk-estimator:hover .sk-estimator-doc-link:hover,\n",
              ".sk-estimator-doc-link:hover,\n",
              "div.sk-label-container:hover .sk-estimator-doc-link:hover,\n",
              ".sk-estimator-doc-link:hover {\n",
              "  /* unfitted */\n",
              "  background-color: var(--sklearn-color-unfitted-level-3);\n",
              "  color: var(--sklearn-color-background);\n",
              "  text-decoration: none;\n",
              "}\n",
              "\n",
              "div.sk-estimator.fitted:hover .sk-estimator-doc-link.fitted:hover,\n",
              ".sk-estimator-doc-link.fitted:hover,\n",
              "div.sk-label-container:hover .sk-estimator-doc-link.fitted:hover,\n",
              ".sk-estimator-doc-link.fitted:hover {\n",
              "  /* fitted */\n",
              "  background-color: var(--sklearn-color-fitted-level-3);\n",
              "  color: var(--sklearn-color-background);\n",
              "  text-decoration: none;\n",
              "}\n",
              "\n",
              "/* Span, style for the box shown on hovering the info icon */\n",
              ".sk-estimator-doc-link span {\n",
              "  display: none;\n",
              "  z-index: 9999;\n",
              "  position: relative;\n",
              "  font-weight: normal;\n",
              "  right: .2ex;\n",
              "  padding: .5ex;\n",
              "  margin: .5ex;\n",
              "  width: min-content;\n",
              "  min-width: 20ex;\n",
              "  max-width: 50ex;\n",
              "  color: var(--sklearn-color-text);\n",
              "  box-shadow: 2pt 2pt 4pt #999;\n",
              "  /* unfitted */\n",
              "  background: var(--sklearn-color-unfitted-level-0);\n",
              "  border: .5pt solid var(--sklearn-color-unfitted-level-3);\n",
              "}\n",
              "\n",
              ".sk-estimator-doc-link.fitted span {\n",
              "  /* fitted */\n",
              "  background: var(--sklearn-color-fitted-level-0);\n",
              "  border: var(--sklearn-color-fitted-level-3);\n",
              "}\n",
              "\n",
              ".sk-estimator-doc-link:hover span {\n",
              "  display: block;\n",
              "}\n",
              "\n",
              "/* \"?\"-specific style due to the `<a>` HTML tag */\n",
              "\n",
              "#sk-container-id-1 a.estimator_doc_link {\n",
              "  float: right;\n",
              "  font-size: 1rem;\n",
              "  line-height: 1em;\n",
              "  font-family: monospace;\n",
              "  background-color: var(--sklearn-color-background);\n",
              "  border-radius: 1rem;\n",
              "  height: 1rem;\n",
              "  width: 1rem;\n",
              "  text-decoration: none;\n",
              "  /* unfitted */\n",
              "  color: var(--sklearn-color-unfitted-level-1);\n",
              "  border: var(--sklearn-color-unfitted-level-1) 1pt solid;\n",
              "}\n",
              "\n",
              "#sk-container-id-1 a.estimator_doc_link.fitted {\n",
              "  /* fitted */\n",
              "  border: var(--sklearn-color-fitted-level-1) 1pt solid;\n",
              "  color: var(--sklearn-color-fitted-level-1);\n",
              "}\n",
              "\n",
              "/* On hover */\n",
              "#sk-container-id-1 a.estimator_doc_link:hover {\n",
              "  /* unfitted */\n",
              "  background-color: var(--sklearn-color-unfitted-level-3);\n",
              "  color: var(--sklearn-color-background);\n",
              "  text-decoration: none;\n",
              "}\n",
              "\n",
              "#sk-container-id-1 a.estimator_doc_link.fitted:hover {\n",
              "  /* fitted */\n",
              "  background-color: var(--sklearn-color-fitted-level-3);\n",
              "}\n",
              "</style><div id=\"sk-container-id-1\" class=\"sk-top-container\"><div class=\"sk-text-repr-fallback\"><pre>XGBClassifier(base_score=None, booster=None, callbacks=None,\n",
              "              colsample_bylevel=None, colsample_bynode=None,\n",
              "              colsample_bytree=0.8117564356588899, device=None,\n",
              "              early_stopping_rounds=None, enable_categorical=False,\n",
              "              eval_metric=&#x27;logloss&#x27;, feature_types=None,\n",
              "              gamma=0.07777583390542606, grow_policy=None, importance_type=None,\n",
              "              interaction_constraints=None, learning_rate=0.014458963998181132,\n",
              "              max_bin=None, max_cat_threshold=None, max_cat_to_onehot=None,\n",
              "              max_delta_step=None, max_depth=4, max_leaves=None,\n",
              "              min_child_weight=1, missing=nan, monotone_constraints=None,\n",
              "              multi_strategy=None, n_estimators=128, n_jobs=None,\n",
              "              num_parallel_tree=None, random_state=42, ...)</pre><b>In a Jupyter environment, please rerun this cell to show the HTML representation or trust the notebook. <br />On GitHub, the HTML representation is unable to render, please try loading this page with nbviewer.org.</b></div><div class=\"sk-container\" hidden><div class=\"sk-item\"><div class=\"sk-estimator fitted sk-toggleable\"><input class=\"sk-toggleable__control sk-hidden--visually\" id=\"sk-estimator-id-1\" type=\"checkbox\" checked><label for=\"sk-estimator-id-1\" class=\"sk-toggleable__label fitted sk-toggleable__label-arrow\"><div><div>XGBClassifier</div></div><div><span class=\"sk-estimator-doc-link fitted\">i<span>Fitted</span></span></div></label><div class=\"sk-toggleable__content fitted\"><pre>XGBClassifier(base_score=None, booster=None, callbacks=None,\n",
              "              colsample_bylevel=None, colsample_bynode=None,\n",
              "              colsample_bytree=0.8117564356588899, device=None,\n",
              "              early_stopping_rounds=None, enable_categorical=False,\n",
              "              eval_metric=&#x27;logloss&#x27;, feature_types=None,\n",
              "              gamma=0.07777583390542606, grow_policy=None, importance_type=None,\n",
              "              interaction_constraints=None, learning_rate=0.014458963998181132,\n",
              "              max_bin=None, max_cat_threshold=None, max_cat_to_onehot=None,\n",
              "              max_delta_step=None, max_depth=4, max_leaves=None,\n",
              "              min_child_weight=1, missing=nan, monotone_constraints=None,\n",
              "              multi_strategy=None, n_estimators=128, n_jobs=None,\n",
              "              num_parallel_tree=None, random_state=42, ...)</pre></div> </div></div></div></div>"
            ]
          },
          "metadata": {},
          "execution_count": 12
        }
      ]
    },
    {
      "cell_type": "code",
      "source": [
        "from sklearn.metrics import roc_auc_score, f1_score, confusion_matrix, roc_curve\n",
        "import numpy as np\n",
        "\n",
        "y_pred_proba = best_model.predict_proba(X_test)[:, 1]\n",
        "y_pred_default = best_model.predict(X_test)\n",
        "\n",
        "auc = roc_auc_score(y_test, y_pred_proba)\n",
        "f1_default = f1_score(y_test, y_pred_default)\n",
        "cm_default = confusion_matrix(y_test, y_pred_default)\n",
        "\n",
        "print(\"XGBoost AUC:\", auc)\n",
        "print(\"XGBoost F1 Score:\", f1_default)\n",
        "print(\"Confusion Matrix:\\n\", cm_default)\n",
        "\n",
        "# Determine optimal threshold using Youden's J statistic\n",
        "fpr, tpr, thresholds = roc_curve(y_test, y_pred_proba)\n",
        "youden_j = tpr - fpr\n",
        "best_threshold = thresholds[np.argmax(youden_j)]\n",
        "print(\"Best threshold based on Youden's J:\", best_threshold)\n",
        "\n",
        "# Apply the tuned threshold\n",
        "y_pred_tuned = (y_pred_proba >= best_threshold).astype(int)\n",
        "f1_tuned = f1_score(y_test, y_pred_tuned)\n",
        "cm_tuned = confusion_matrix(y_test, y_pred_tuned)\n",
        "\n",
        "print(\"New XGBoost F1 Score:\", f1_tuned)\n",
        "print(\"New Confusion Matrix:\\n\", cm_tuned)\n"
      ],
      "metadata": {
        "colab": {
          "base_uri": "https://localhost:8080/"
        },
        "id": "J0LQW8ZM-QRf",
        "outputId": "f928da6f-8981-41bc-d914-8eee046beef8"
      },
      "execution_count": 13,
      "outputs": [
        {
          "output_type": "stream",
          "name": "stdout",
          "text": [
            "XGBoost AUC: 0.8571428571428572\n",
            "XGBoost F1 Score: 0.6\n",
            "Confusion Matrix:\n",
            " [[6 1]\n",
            " [3 3]]\n",
            "Best threshold based on Youden's J: 0.31153336\n",
            "New XGBoost F1 Score: 0.8571428571428571\n",
            "New Confusion Matrix:\n",
            " [[5 2]\n",
            " [0 6]]\n"
          ]
        }
      ]
    },
    {
      "cell_type": "code",
      "source": [
        "print(\"\\nFeatures used:\", features)\n"
      ],
      "metadata": {
        "colab": {
          "base_uri": "https://localhost:8080/"
        },
        "id": "9Twum5rYNGAv",
        "outputId": "0748a7f9-17b0-44eb-fdaf-42a38b5292e1"
      },
      "execution_count": 14,
      "outputs": [
        {
          "output_type": "stream",
          "name": "stdout",
          "text": [
            "\n",
            "Features used: ['length_of_stay', 'ed_wait_time', 'admission_dayofweek', 'admission_hour', 'prior_admissions', 'admission_type_EMERGENCY', 'admission_type_URGENT', 'admission_location_PHYS REFERRAL/NORMAL DELI', 'admission_location_TRANSFER FROM HOSP/EXTRAM', 'insurance_Medicare', 'insurance_Private', 'religion_CHRISTIAN SCIENTIST', 'religion_JEWISH', 'religion_NOT SPECIFIED', 'religion_PROTESTANT QUAKER', 'religion_ROMANIAN EAST. ORTH', 'religion_UNOBTAINABLE', 'marital_status_MARRIED', 'marital_status_SEPARATED', 'marital_status_SINGLE', 'marital_status_UNKNOWN (DEFAULT)', 'marital_status_WIDOWED', 'ethnicity_HISPANIC OR LATINO', 'ethnicity_UNKNOWN/NOT SPECIFIED', 'ethnicity_WHITE']\n"
          ]
        }
      ]
    },
    {
      "cell_type": "markdown",
      "source": [
        "Simulate Real-Time Data Feed"
      ],
      "metadata": {
        "id": "WiagXSE7-h41"
      }
    },
    {
      "cell_type": "code",
      "source": [
        "# Sort test data by admission time (if available) to simulate chronological order\n",
        "test_data = heart_failure_records.loc[X_test.index].sort_values(by='admittime')\n",
        "\n",
        "# Split test data into 5 batches\n",
        "batches = np.array_split(test_data, 5)\n",
        "for i, batch in enumerate(batches):\n",
        "    X_batch = batch[features]\n",
        "    batch_predictions = best_model.predict_proba(X_batch)[:, 1]\n",
        "    batch['predicted_risk'] = batch_predictions\n",
        "    print(f\"\\nBatch {i+1} Predictions:\")\n",
        "    print(batch[['subject_id', 'admittime', 'predicted_risk']].head())\n"
      ],
      "metadata": {
        "colab": {
          "base_uri": "https://localhost:8080/"
        },
        "id": "eMeH1k6m-ZEP",
        "outputId": "278bd9eb-29b0-48e3-f49b-aba8e1300423"
      },
      "execution_count": 15,
      "outputs": [
        {
          "output_type": "stream",
          "name": "stdout",
          "text": [
            "\n",
            "Batch 1 Predictions:\n",
            "    subject_id           admittime  predicted_risk\n",
            "33       40456 2118-10-06 16:25:00        0.164861\n",
            "55       43735 2128-11-04 16:05:00        0.747637\n",
            "13       10056 2129-05-02 00:12:00        0.194172\n",
            "\n",
            "Batch 2 Predictions:\n",
            "    subject_id           admittime  predicted_risk\n",
            "12       10056 2129-05-02 00:12:00        0.331982\n",
            "46       42033 2131-07-26 17:13:00        0.165099\n",
            "5        10038 2144-02-09 17:53:00        0.557396\n",
            "\n",
            "Batch 3 Predictions:\n",
            "    subject_id           admittime  predicted_risk\n",
            "40       40655 2144-07-18 19:32:00        0.248458\n",
            "49       42346 2160-12-16 13:47:00        0.752330\n",
            "31       40304 2163-11-21 18:34:00        0.222353\n",
            "\n",
            "Batch 4 Predictions:\n",
            "    subject_id           admittime  predicted_risk\n",
            "0        10006 2164-10-23 21:09:00        0.622466\n",
            "59       43827 2176-07-14 13:24:00        0.311533\n",
            "\n",
            "Batch 5 Predictions:\n",
            "    subject_id           admittime  predicted_risk\n",
            "34       40503 2186-07-06 19:59:00        0.450695\n",
            "16       10083 2192-11-20 04:34:00        0.439290\n"
          ]
        },
        {
          "output_type": "stream",
          "name": "stderr",
          "text": [
            "/usr/local/lib/python3.11/dist-packages/numpy/core/fromnumeric.py:59: FutureWarning: 'DataFrame.swapaxes' is deprecated and will be removed in a future version. Please use 'DataFrame.transpose' instead.\n",
            "  return bound(*args, **kwds)\n"
          ]
        }
      ]
    },
    {
      "cell_type": "code",
      "source": [
        " # After training your model, assign it to 'model'\n",
        "model = best_model\n"
      ],
      "metadata": {
        "id": "mMFNSqkiVDrw"
      },
      "execution_count": 16,
      "outputs": []
    },
    {
      "cell_type": "code",
      "source": [
        "!pip install pyngrok\n",
        "from flask import Flask, request, jsonify\n",
        "import pickle\n",
        "import numpy as np\n",
        "from pyngrok import ngrok\n",
        "\n",
        "app = Flask(__name__)\n",
        "\n",
        "# Assume 'model' is already trained and available in memory\n",
        "# If not, load it from a file if you have saved it.\n",
        "\n",
        "@app.route('/')\n",
        "def home():\n",
        "    return \"API is running!\"\n",
        "\n",
        "@app.route('/predict', methods=['POST'])\n",
        "def predict():\n",
        "    data = request.get_json(force=True)\n",
        "    features = np.array(data['features']).reshape(1, -1)\n",
        "    prediction = model.predict(features)[0]\n",
        "    prediction_proba = model.predict_proba(features)[0, 1]\n",
        "    return jsonify({'readmission_risk': int(prediction), 'risk_probability': float(prediction_proba)})\n",
        "\n",
        "# Set your ngrok authtoken (replace with your actual token)\n",
        "ngrok.set_auth_token(\"2tuAJ5MSqphd90cT1U9XXBy3ghb_6dQETMfChq2aotjeu3gNC\")\n",
        "\n",
        "# Expose the Flask app via ngrok on port 5000\n",
        "public_url = ngrok.connect(5000).public_url\n",
        "print(\"API public URL:\", public_url)\n",
        "\n",
        "app.run(port=5000, debug=False, use_reloader=False)\n"
      ],
      "metadata": {
        "colab": {
          "base_uri": "https://localhost:8080/"
        },
        "id": "T9kxIKNUOVe1",
        "outputId": "b7003132-b107-4ebf-a333-36a488e842a1"
      },
      "execution_count": null,
      "outputs": [
        {
          "output_type": "stream",
          "name": "stdout",
          "text": [
            "Requirement already satisfied: pyngrok in /usr/local/lib/python3.11/dist-packages (7.2.3)\n",
            "Requirement already satisfied: PyYAML>=5.1 in /usr/local/lib/python3.11/dist-packages (from pyngrok) (6.0.2)\n",
            "API public URL: https://811f-34-125-163-89.ngrok-free.app\n",
            " * Serving Flask app '__main__'\n",
            " * Debug mode: off\n"
          ]
        },
        {
          "output_type": "stream",
          "name": "stderr",
          "text": [
            "INFO:werkzeug:\u001b[31m\u001b[1mWARNING: This is a development server. Do not use it in a production deployment. Use a production WSGI server instead.\u001b[0m\n",
            " * Running on http://127.0.0.1:5000\n",
            "INFO:werkzeug:\u001b[33mPress CTRL+C to quit\u001b[0m\n",
            "WARNING:pyngrok.process.ngrok:t=2025-03-05T17:36:07+0000 lvl=warn msg=\"failed to check for update\" obj=updater err=\"Post \\\"https://update.equinox.io/check\\\": context deadline exceeded\"\n",
            "INFO:werkzeug:127.0.0.1 - - [05/Mar/2025 17:40:43] \"POST /predict HTTP/1.1\" 200 -\n",
            "INFO:werkzeug:127.0.0.1 - - [05/Mar/2025 17:42:41] \"GET / HTTP/1.1\" 200 -\n",
            "INFO:werkzeug:127.0.0.1 - - [05/Mar/2025 17:42:41] \"\u001b[33mGET /favicon.ico HTTP/1.1\u001b[0m\" 404 -\n",
            "INFO:werkzeug:127.0.0.1 - - [05/Mar/2025 17:42:44] \"\u001b[33mGET /predi HTTP/1.1\u001b[0m\" 404 -\n",
            "INFO:werkzeug:127.0.0.1 - - [05/Mar/2025 17:43:05] \"\u001b[31m\u001b[1mGET /predict HTTP/1.1\u001b[0m\" 405 -\n",
            "INFO:werkzeug:127.0.0.1 - - [05/Mar/2025 17:43:06] \"\u001b[33mGET /favicon.ico HTTP/1.1\u001b[0m\" 404 -\n",
            "INFO:werkzeug:127.0.0.1 - - [05/Mar/2025 17:46:36] \"POST /predict HTTP/1.1\" 200 -\n",
            "INFO:werkzeug:127.0.0.1 - - [05/Mar/2025 17:47:26] \"GET / HTTP/1.1\" 200 -\n",
            "INFO:werkzeug:127.0.0.1 - - [05/Mar/2025 17:47:26] \"\u001b[33mGET /favicon.ico HTTP/1.1\u001b[0m\" 404 -\n",
            "INFO:werkzeug:127.0.0.1 - - [05/Mar/2025 18:06:04] \"GET / HTTP/1.1\" 200 -\n"
          ]
        }
      ]
    },
    {
      "cell_type": "code",
      "source": [
        "import matplotlib.pyplot as plt\n",
        "import xgboost as xgb\n",
        "\n",
        "# Plot feature importance for the best XGBoost model\n",
        "xgb.plot_importance(best_model, max_num_features=10)\n",
        "plt.title(\"Feature Importance - XGBoost\")\n",
        "plt.show()\n"
      ],
      "metadata": {
        "id": "OELnATL6GReP"
      },
      "execution_count": null,
      "outputs": []
    },
    {
      "cell_type": "code",
      "source": [
        "import shap\n",
        "\n",
        "# Initialize the SHAP explainer with the best model\n",
        "explainer = shap.TreeExplainer(best_model)\n",
        "shap_values = explainer.shap_values(X_test)\n",
        "\n",
        "# Summary plot: shows feature importance and effects\n",
        "shap.summary_plot(shap_values, X_test, plot_type=\"bar\")\n"
      ],
      "metadata": {
        "id": "PP0hCLZOGVsK"
      },
      "execution_count": null,
      "outputs": []
    },
    {
      "cell_type": "code",
      "source": [
        "from sklearn.metrics import roc_auc_score, f1_score, confusion_matrix, roc_curve\n",
        "import numpy as np\n",
        "\n",
        "y_pred_proba = best_model.predict_proba(X_test)[:, 1]\n",
        "y_pred_default = best_model.predict(X_test)\n",
        "\n",
        "auc = roc_auc_score(y_test, y_pred_proba)\n",
        "f1_default = f1_score(y_test, y_pred_default)\n",
        "cm_default = confusion_matrix(y_test, y_pred_default)\n",
        "\n",
        "print(\"XGBoost AUC:\", auc)\n",
        "print(\"XGBoost F1 Score:\", f1_default)\n",
        "print(\"Confusion Matrix:\\n\", cm_default)\n",
        "\n",
        "# Determine optimal threshold using Youden's J statistic\n",
        "fpr, tpr, thresholds = roc_curve(y_test, y_pred_proba)\n",
        "youden_j = tpr - fpr\n",
        "best_threshold = thresholds[np.argmax(youden_j)]\n",
        "print(\"Best threshold based on Youden's J:\", best_threshold)\n",
        "\n",
        "# Apply the tuned threshold\n",
        "y_pred_tuned = (y_pred_proba >= best_threshold).astype(int)\n",
        "f1_tuned = f1_score(y_test, y_pred_tuned)\n",
        "cm_tuned = confusion_matrix(y_test, y_pred_tuned)\n",
        "\n",
        "print(\"New XGBoost F1 Score:\", f1_tuned)\n",
        "print(\"New Confusion Matrix:\\n\", cm_tuned)\n"
      ],
      "metadata": {
        "id": "B883vdZ0Gdln"
      },
      "execution_count": null,
      "outputs": []
    }
  ]
}